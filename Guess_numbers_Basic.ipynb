{
 "cells": [
  {
   "cell_type": "code",
   "execution_count": null,
   "metadata": {},
   "outputs": [
    {
     "name": "stdout",
     "output_type": "stream",
     "text": [
      "You have 10 times to guess the given number\n",
      "39\n"
     ]
    }
   ],
   "source": [
    "\n",
    "import random\n",
    "print (\"You have 10 times to guess the given number\")\n",
    "\n",
    "t = random.randint(0, 100)\n",
    "print (t)\n",
    "i=1\n",
    "for i in range(1,11):  \n",
    "    guess = int(input(\"Please enter a number-->\"))\n",
    "    if(guess < t):\n",
    "        print (\"The number guessed is smaller than the given one, you have %d times left:\" %(10-i))\n",
    "    elif(guess > t):\n",
    "        print(\"The number guessed is bigger than the given one, you have %d times left:\" %(10-i))\n",
    "    else:\n",
    "        print(\"You are so smart, you get the one:\", guess)\n",
    "        exit(0)\n",
    "print (\"You have used %d times to guess the given number correctly, the random number is:\" %(i))\n",
    "     "
   ]
  },
  {
   "cell_type": "code",
   "execution_count": null,
   "metadata": {
    "collapsed": true
   },
   "outputs": [],
   "source": []
  }
 ],
 "metadata": {
  "kernelspec": {
   "display_name": "Python 3",
   "language": "python",
   "name": "python3"
  },
  "language_info": {
   "codemirror_mode": {
    "name": "ipython",
    "version": 3
   },
   "file_extension": ".py",
   "mimetype": "text/x-python",
   "name": "python",
   "nbconvert_exporter": "python",
   "pygments_lexer": "ipython3",
   "version": "3.6.2"
  }
 },
 "nbformat": 4,
 "nbformat_minor": 2
}
