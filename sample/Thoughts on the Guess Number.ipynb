{
 "cells": [
  {
   "cell_type": "markdown",
   "metadata": {},
   "source": [
    "### 通过调用map函数 进行list相减，了解map的功能"
   ]
  },
  {
   "cell_type": "code",
   "execution_count": null,
   "metadata": {
    "collapsed": true
   },
   "outputs": [],
   "source": [
    "a = [1, 3, 4, 6]\n",
    "b = [1, 4, 3, 8]\n",
    "\n",
    "def dd(x, y):\n",
    "    return x-y\n",
    "\n",
    "c = list(map(dd, a, b)) #通过调用map函数 进行list相减，了解map的功能\n",
    "print(c)"
   ]
  },
  {
   "cell_type": "markdown",
   "metadata": {},
   "source": [
    "### 进一步理解map函数"
   ]
  },
  {
   "cell_type": "code",
   "execution_count": 5,
   "metadata": {},
   "outputs": [
    {
     "data": {
      "text/plain": [
       "[1, 3, 5, 4]"
      ]
     },
     "execution_count": 5,
     "metadata": {},
     "output_type": "execute_result"
    }
   ],
   "source": [
    "def aaa(e, f, g):  # 进一步理解map函数\n",
    "    return e + f - g\n",
    "\n",
    "a = (1, 4, 1, 4)\n",
    "b =(3, 4, 5, 1)\n",
    "c =(3, 5, 1, 1)\n",
    "\n",
    "list(map(aaa, a, b, c))"
   ]
  },
  {
   "cell_type": "code",
   "execution_count": 6,
   "metadata": {},
   "outputs": [
    {
     "name": "stdout",
     "output_type": "stream",
     "text": [
      "['3', '2', '1']\n"
     ]
    }
   ],
   "source": [
    "print(list(map(str, [3, 2, 1])))"
   ]
  },
  {
   "cell_type": "markdown",
   "metadata": {},
   "source": [
    "### set 函数"
   ]
  },
  {
   "cell_type": "code",
   "execution_count": 2,
   "metadata": {},
   "outputs": [
    {
     "name": "stdout",
     "output_type": "stream",
     "text": [
      "{1, 2, 3, 4}\n"
     ]
    }
   ],
   "source": [
    "a = [1, 2, 3, 4,2, 1,3 ,1]\n",
    "b = set(a) #set函数 删除所有重复数值，保证所有数值各不相同\n",
    "\n",
    "print(b)"
   ]
  },
  {
   "cell_type": "markdown",
   "metadata": {},
   "source": [
    "### 将字符串的元素 连接"
   ]
  },
  {
   "cell_type": "code",
   "execution_count": 9,
   "metadata": {},
   "outputs": [
    {
     "name": "stdout",
     "output_type": "stream",
     "text": [
      "('r', 'u', 'n', 'o', 'o', 'b')\n",
      "r-u-n-o-o-b\n",
      "runoob\n"
     ]
    }
   ],
   "source": [
    "#!/usr/bin/python3  \n",
    "#将字符串的元素 连接，使用join\n",
    "\n",
    "s1 = \"-\"\n",
    "s2 = \"\"   #没有空格\n",
    "seq = (\"r\", \"u\", \"n\", \"o\", \"o\", \"b\") # 字符串序列\n",
    "\n",
    "#seq = int(seq)\n",
    "print (seq)\n",
    "print (s1.join( seq ))\n",
    "print (s2.join( seq ))"
   ]
  },
  {
   "cell_type": "markdown",
   "metadata": {},
   "source": [
    "### 数字转为list"
   ]
  },
  {
   "cell_type": "code",
   "execution_count": 10,
   "metadata": {},
   "outputs": [
    {
     "name": "stdout",
     "output_type": "stream",
     "text": [
      "123456\n",
      "[1, 2, 3, 4, 5, 6]\n"
     ]
    }
   ],
   "source": [
    "a = 123456   #数字转为list\n",
    "b = str(a)\n",
    "c = []\n",
    "print (b)\n",
    "\n",
    "for digit in b:\n",
    "    c.append (int(digit))\n",
    "\n",
    "print (c)"
   ]
  },
  {
   "cell_type": "markdown",
   "metadata": {},
   "source": [
    "### Python中列表元素转为数字"
   ]
  },
  {
   "cell_type": "code",
   "execution_count": 11,
   "metadata": {},
   "outputs": [
    {
     "name": "stdout",
     "output_type": "stream",
     "text": [
      "[1, 5, 10, 8]\n"
     ]
    }
   ],
   "source": [
    "#Python中列表元素转为数字\n",
    "numbers = ['1', '5', '10', '8']\n",
    "\n",
    "\n",
    "new_numbers = [];\n",
    "for n in numbers:\n",
    "    new_numbers.append(int(n));\n",
    "numbers = new_numbers;\n",
    "\n",
    "print(numbers)\n",
    "\n",
    "#numbers = [ int(x) for x in numbers ] # 更加简洁的表达方式\n",
    "\n",
    "# python2.x,可以使用map函数\n",
    "#numbers = map(int, numbers)\n",
    "\n",
    "# 如果是3.x,map返回的是map对象，当然也可以转换为List:\n",
    "#numbers = list(map(int, numbers))\n",
    "\n"
   ]
  },
  {
   "cell_type": "markdown",
   "metadata": {},
   "source": [
    "### 进阶游戏 不使用循环，主要依靠set，map，count函数"
   ]
  },
  {
   "cell_type": "code",
   "execution_count": null,
   "metadata": {},
   "outputs": [
    {
     "name": "stdout",
     "output_type": "stream",
     "text": [
      "You have 10 times to guess the given random number, good luck\n",
      "[9, 2, 4, 3]\n",
      "please input 4-digit number ->1233\n",
      "1233\n",
      "guess=[1, 2, 3, 3]\n",
      "x=1\n",
      "2A0B\n",
      "please input 4-digit number ->4567\n",
      "4567\n",
      "guess=[4, 5, 6, 7]\n",
      "x=0\n",
      "0A1B\n",
      "please input 4-digit number ->7777\n"
     ]
    }
   ],
   "source": [
    "import random\n",
    "\n",
    "def random_num():  #生成随机的四位各不相同的 list 函数\n",
    "    a=[1,2,3,4,5,6,7,8,9]\n",
    "    b=[0,1,2,3,4,5,6,7,8,9]\n",
    "\n",
    "    a1=random.sample(a,1)    #产生千位数字\n",
    "    b.remove(a1[0])     #保证后个位，十位，百位的数字和千位数字不同\n",
    "    b1=random.sample(b,3)  #随机取三个元素最为一个片段返回，比如 [6,4,3]\n",
    "    a1.extend(b1) #将千位和个十百位的元素，拼合为一个新list\n",
    "    #print (a1)    #[9, 7, 1, 4]\n",
    "    return (a1)\n",
    "\n",
    "def num_to_list(num):  # 将“输入的数字“转为 list的函数\n",
    "\n",
    "    num2 = str(num)\n",
    "    c = []\n",
    "    print (num2)\n",
    "\n",
    "    for digit in num2:\n",
    "        c.append (int(digit))\n",
    "    #print (c)\n",
    "    return c\n",
    "\n",
    "def dd(x, y):\n",
    "    return x-y    \n",
    "     \n",
    "print (\"You have 10 times to guess the given random number, good luck\")\n",
    "random_list = []\n",
    "\n",
    "random_list = random_num ()  # 产生 一个包含四位随机数字的list\n",
    "print (random_list)\n",
    "    \n",
    "for i in range(10):\n",
    "\n",
    "    guess_num = int(input(\"please input 4-digit number ->\"))    #输入4位数字\n",
    "    \n",
    "    guess_list = num_to_list(guess_num) # 将“输入的guess数字“转为 list\n",
    "    print(\"guess=%r\" %(guess_list))\n",
    "    \n",
    "    c = list(map(dd, guess_list, random_list)) # 通过map，调用dd函数，进行list的相减，得到新的list\n",
    "    a_count = c.count(0)  #统计位置和数值均相同个数\n",
    "    \n",
    "    \n",
    "    x =len(guess_list) -len(set(guess_list)) # set函数，保证list中不存在相同的元素，因此如果输入的数字中有重复的数字\n",
    "    print (\"x=%d\" %x)     #则统计这些已经重复的数字\n",
    "    \n",
    "    guess_list.extend(random_list)  #将两个list合并，为新list\n",
    "\n",
    "    b_count = len(guess_list)-len(set(guess_list))-(a_count+x) # len(guess_list)-len(set(guess_list))为重复的总个数\n",
    "                                                 # (a_count+x)为\"位置相同数值相同的个数+输入的guess_list中重复的数字\"\n",
    "\n",
    "    print (\"%dA%dB\" %(a_count,b_count))"
   ]
  },
  {
   "cell_type": "markdown",
   "metadata": {},
   "source": [
    "### 基础游戏"
   ]
  },
  {
   "cell_type": "code",
   "execution_count": null,
   "metadata": {},
   "outputs": [
    {
     "name": "stdout",
     "output_type": "stream",
     "text": [
      "You have 10 times to guess the given number\n",
      "8\n"
     ]
    }
   ],
   "source": [
    "\n",
    "import random\n",
    "print (\"You have 10 times to guess the given number\")\n",
    "\n",
    "t = random.randint(0, 20)\n",
    "print (t)\n",
    "i=1\n",
    "for i in range(0,10):\n",
    "   guess = int(input(\"Please enter a number-->\"))\n",
    "   if(guess < t):\n",
    "       print (\"The number guessed is smaller than the given one, you have %d times left:\" %(10-i))\n",
    "   elif(guess > t):\n",
    "       print(\"The number guessed is bigger than the given one, you have %d times left:\" %(10-i))\n",
    "   else:\n",
    "       print(\"You are so smart, you get the one:\", guess)\n",
    "       exit(0)\n",
    "print (\"You have used %d times to guess the given number correctly, the random number is:\" %(i))\n",
    "\n"
   ]
  },
  {
   "cell_type": "markdown",
   "metadata": {},
   "source": [
    "### 进使用阶游戏 常规for-if经典方法 ，请注意此法主要功能借助字符串的依次类比 a_str[i] = b_str[i] "
   ]
  },
  {
   "cell_type": "code",
   "execution_count": null,
   "metadata": {},
   "outputs": [],
   "source": [
    "import random\n",
    "\n",
    "def createnum():\n",
    "    a = random.randint(1, 9)\n",
    "    b = random.randint(0, 9)\n",
    "    c = random.randint(0, 9)\n",
    "    d = random.randint(0, 9)\n",
    "    while  a == b or a == c or a == d or b == c or b == d or c == d:\n",
    "        a = random.randint(1, 9)\n",
    "        b = random.randint(0, 9)\n",
    "        c = random.randint(0, 9)\n",
    "        d = random.randint(0, 9)\n",
    "    return a * 1000 + b * 100 + c * 10 + d\n",
    "\n",
    "\n",
    "ranum = str(createnum())\n",
    "print (ranum)\n",
    "print(\"猜一个四位数，四个数不重复，10 次机会给你猜\")\n",
    "\n",
    "for i in range(0, 10):\n",
    "    guess = input()\n",
    "    a = 0\n",
    "    b = 0\n",
    "    if guess != ranum:\n",
    "        for j in range(0, 4):\n",
    "            if guess[j] == ranum[j]:\n",
    "                a += 1\n",
    "            elif guess[j] in ranum:\n",
    "                b += 1\n",
    "        print(f\"{a}A{b}B, 还有{9 - i}次机会\")\n",
    "    else:\n",
    "        print(\"对咯\")\n",
    "        break"
   ]
  },
  {
   "cell_type": "code",
   "execution_count": null,
   "metadata": {
    "collapsed": true
   },
   "outputs": [],
   "source": []
  }
 ],
 "metadata": {
  "kernelspec": {
   "display_name": "Python 3",
   "language": "python",
   "name": "python3"
  },
  "language_info": {
   "codemirror_mode": {
    "name": "ipython",
    "version": 3
   },
   "file_extension": ".py",
   "mimetype": "text/x-python",
   "name": "python",
   "nbconvert_exporter": "python",
   "pygments_lexer": "ipython3",
   "version": "3.6.2"
  }
 },
 "nbformat": 4,
 "nbformat_minor": 2
}
